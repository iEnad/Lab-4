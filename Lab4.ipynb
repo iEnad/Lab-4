{
 "cells": [
  {
   "cell_type": "code",
   "execution_count": 2,
   "id": "71be0741",
   "metadata": {},
   "outputs": [],
   "source": [
    "import re"
   ]
  },
  {
   "cell_type": "code",
   "execution_count": 3,
   "id": "2e3c0036",
   "metadata": {},
   "outputs": [
    {
     "name": "stdout",
     "output_type": "stream",
     "text": [
      "input your text here : Hello\n"
     ]
    },
    {
     "data": {
      "text/plain": [
       "'Helo'"
      ]
     },
     "execution_count": 3,
     "metadata": {},
     "output_type": "execute_result"
    }
   ],
   "source": [
    "class RepeatReplacer(object): \n",
    "  def __init__(self): \n",
    "    self.repeat_regexp = re.compile(r'(\\w*)(\\w)\\2(\\w*)') \n",
    "    self.repl = r'\\1\\2\\3' \n",
    "  def replace(self, word): \n",
    "    repl_word = self.repeat_regexp.sub(self.repl, word) \n",
    "    if repl_word != word: \n",
    "      return self.replace(repl_word) \n",
    "    else: \n",
    "      return repl_word\n",
    "\n",
    "replacer=RepeatReplacer()\n",
    "text=input(\"input your text here : \")\n",
    "\n",
    "replacer.replace(text)"
   ]
  },
  {
   "cell_type": "code",
   "execution_count": 4,
   "id": "51c11c74",
   "metadata": {},
   "outputs": [
    {
     "name": "stdout",
     "output_type": "stream",
     "text": [
      "understand\n"
     ]
    }
   ],
   "source": [
    "import nltk\n",
    "from  nltk.stem import PorterStemmer\n",
    "\n",
    "porter = PorterStemmer()\n",
    "\n",
    "print(porter.stem(\"understanding\"))"
   ]
  },
  {
   "cell_type": "code",
   "execution_count": 5,
   "id": "a9030815",
   "metadata": {},
   "outputs": [
    {
     "name": "stdout",
     "output_type": "stream",
     "text": [
      "a stemmer for english oper on the stem cat should identifi such string as cat , catlik , and catti . a stem algorithm might also reduc the word fish , fish , and fisher to the stem fish . the stem need not be a word , for exampl the porter algorithm reduc , argu , argu , argu , argu , and argu to the stem argu .\n"
     ]
    }
   ],
   "source": [
    "from nltk.tokenize import word_tokenize\n",
    "\n",
    "text = nltk.word_tokenize('A stemmer for English operating on the stem cat should identify such strings as cats, catlike, and catty. A stemming algorithm might also reduce the words fishing, fished, and fisher to the stem fish. The stem need not be a word, for example the Porter algorithm reduces, argue, argued, argues, arguing, and argus to the stem argu.') \n",
    "processedText = []\n",
    "for item in text:\n",
    "  stem = porter.stem(item)\n",
    "  processedText.append(stem)\n",
    "\n",
    "processedText = \" \".join(processedText)\n",
    "print(processedText)"
   ]
  },
  {
   "cell_type": "code",
   "execution_count": 6,
   "id": "a8ab7407",
   "metadata": {},
   "outputs": [
    {
     "name": "stdout",
     "output_type": "stream",
     "text": [
      "dogs            -> dog\n",
      "programming     -> program\n",
      "programs        -> program\n",
      "programmed      -> program\n",
      "cakes           -> cak\n",
      "indices         -> ind\n",
      "matrices        -> mat\n"
     ]
    }
   ],
   "source": [
    "import nltk \n",
    "from nltk.stem import LancasterStemmer\n",
    "lancaster = LancasterStemmer()\n",
    "l_words = ['dogs','programming','programs','programmed','cakes','indices','matrices']\n",
    "for word in l_words:\n",
    "    print(f'{word} \\t -> {lancaster.stem(word)}'.expandtabs(15))"
   ]
  },
  {
   "cell_type": "code",
   "execution_count": 7,
   "id": "d0692a81",
   "metadata": {},
   "outputs": [
    {
     "name": "stdout",
     "output_type": "stream",
     "text": [
      "حرك\n"
     ]
    }
   ],
   "source": [
    "from nltk.stem.isri import ISRIStemmer \n",
    "st = ISRIStemmer() \n",
    "w= 'حركات' \n",
    "print(st.stem(w))"
   ]
  },
  {
   "cell_type": "code",
   "execution_count": null,
   "id": "475c83ea",
   "metadata": {},
   "outputs": [],
   "source": []
  }
 ],
 "metadata": {
  "kernelspec": {
   "display_name": "Python 3",
   "language": "python",
   "name": "python3"
  },
  "language_info": {
   "codemirror_mode": {
    "name": "ipython",
    "version": 3
   },
   "file_extension": ".py",
   "mimetype": "text/x-python",
   "name": "python",
   "nbconvert_exporter": "python",
   "pygments_lexer": "ipython3",
   "version": "3.8.8"
  }
 },
 "nbformat": 4,
 "nbformat_minor": 5
}
